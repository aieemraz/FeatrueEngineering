{
 "cells": [
  {
   "cell_type": "code",
   "execution_count": 1,
   "metadata": {},
   "outputs": [],
   "source": [
    "import pandas as pd\n",
    "import numpy as np\n",
    "import math\n",
    "from sklearn.model_selection  import train_test_split\n",
    "from sklearn.preprocessing import StandardScaler\n",
    "\n",
    "# machine learning\n",
    "from sklearn.ensemble import GradientBoostingRegressor\n",
    "from sklearn.metrics import mean_squared_error\n",
    "from sklearn.ensemble import RandomForestClassifier, RandomForestRegressor"
   ]
  },
  {
   "cell_type": "code",
   "execution_count": 2,
   "metadata": {},
   "outputs": [
    {
     "name": "stderr",
     "output_type": "stream",
     "text": [
      "F:\\Studio\\Python\\Anaconda\\lib\\site-packages\\IPython\\core\\interactiveshell.py:2718: DtypeWarning: Columns (9,48,114,117,118,119,120,121,122,123,128,129,130,131,132,133,136,157,161,163,164,165,166,168,169,170,171,172,173,174,175,176,177,178,179,180,181,182,183,191,192,193,194,195,196,197,198,199,200,201,202,203,204,205,207,208,209,210,211,212,213,214,215,216,217,218,219,220,221,222,223,224,225,226,227,228,229,230,232,233,237,238,239,240,241,242,243,246,247,250,251,252,255,256,257,258,264,265,277,282,283,285,299,300,310,311,314,315,316,317,318,320,321,322,333,336,337,361,371,372,373,377,382,403,404) have mixed types. Specify dtype option on import or set low_memory=False.\n",
      "  interactivity=interactivity, compiler=compiler, result=result)\n"
     ]
    },
    {
     "data": {
      "text/plain": [
       "(38199, 406)"
      ]
     },
     "execution_count": 2,
     "metadata": {},
     "output_type": "execute_result"
    }
   ],
   "source": [
    "path = 'data/train_set.csv'\n",
    "data = pd.read_csv(path, encoding='gbk')\n",
    "data.shape"
   ]
  },
  {
   "cell_type": "code",
   "execution_count": 3,
   "metadata": {},
   "outputs": [
    {
     "data": {
      "text/plain": [
       "(38199, 405)"
      ]
     },
     "execution_count": 3,
     "metadata": {},
     "output_type": "execute_result"
    }
   ],
   "source": [
    "del data['vid']\n",
    "data.shape"
   ]
  },
  {
   "cell_type": "code",
   "execution_count": 4,
   "metadata": {},
   "outputs": [
    {
     "data": {
      "text/plain": [
       "(38199, 105)"
      ]
     },
     "execution_count": 4,
     "metadata": {},
     "output_type": "execute_result"
    }
   ],
   "source": [
    "#####################################################################\n",
    "# 识别数值型的特征，将数值型的特征进行训练\n",
    "#####################################################################\n",
    "columns_float = []\n",
    "for column in data.columns:\n",
    "    if data[column].dtypes == 'float64':\n",
    "        columns_float.append(column)\n",
    "\n",
    "# print(columns_float)\n",
    "data = data[columns_float]\n",
    "data.shape"
   ]
  },
  {
   "cell_type": "code",
   "execution_count": 5,
   "metadata": {},
   "outputs": [
    {
     "name": "stdout",
     "output_type": "stream",
     "text": [
      "<class 'pandas.core.frame.DataFrame'>\n",
      "RangeIndex: 38199 entries, 0 to 38198\n",
      "Columns: 105 entries, ssy to 979027\n",
      "dtypes: float64(105)\n",
      "memory usage: 30.6 MB\n"
     ]
    }
   ],
   "source": [
    "data.info()"
   ]
  },
  {
   "cell_type": "code",
   "execution_count": 6,
   "metadata": {},
   "outputs": [],
   "source": [
    "def getLostColumns(dF):\n",
    "    '''\n",
    "    超过缺失阈值的字段删除掉，只保留缺失值少的特征\n",
    "    :param dF:\n",
    "    :return:\n",
    "    '''\n",
    "    columns = dF.columns.values.tolist()\n",
    "    thresh = 0.8\n",
    "    exclude_feats = []\n",
    "    num_rows = dF.shape[0]\n",
    "    for c in dF.columns:\n",
    "        num_missing = dF[c].isnull().sum()\n",
    "        missing_percent = num_missing / float(num_rows)\n",
    "        if missing_percent > thresh:\n",
    "            exclude_feats.append(c)\n",
    "    print(\"缺失数据的字段数量: %s\" % len(exclude_feats))\n",
    "    return exclude_feats"
   ]
  },
  {
   "cell_type": "code",
   "execution_count": 7,
   "metadata": {},
   "outputs": [
    {
     "name": "stdout",
     "output_type": "stream",
     "text": [
      "缺失数据的字段数量: 89\n"
     ]
    }
   ],
   "source": [
    "lost_cols = getLostColumns(data)"
   ]
  },
  {
   "cell_type": "code",
   "execution_count": 8,
   "metadata": {},
   "outputs": [
    {
     "name": "stdout",
     "output_type": "stream",
     "text": [
      "<class 'pandas.core.frame.DataFrame'>\n",
      "RangeIndex: 38199 entries, 0 to 38198\n",
      "Data columns (total 16 columns):\n",
      "ssy        38192 non-null float64\n",
      "szy        38192 non-null float64\n",
      "xqdmddb    38199 non-null float64\n",
      "xqgmddb    38199 non-null float64\n",
      "xqgysz     38199 non-null float64\n",
      "100005     12899 non-null float64\n",
      "100007     15043 non-null float64\n",
      "31         17712 non-null float64\n",
      "315        17712 non-null float64\n",
      "316        17712 non-null float64\n",
      "317        17459 non-null float64\n",
      "319        17712 non-null float64\n",
      "33         17409 non-null float64\n",
      "34         13957 non-null float64\n",
      "37         17712 non-null float64\n",
      "39         14101 non-null float64\n",
      "dtypes: float64(16)\n",
      "memory usage: 4.7 MB\n"
     ]
    }
   ],
   "source": [
    "data = data.drop(lost_cols, axis=1)\n",
    "data.info()"
   ]
  },
  {
   "cell_type": "code",
   "execution_count": 9,
   "metadata": {},
   "outputs": [],
   "source": [
    "def fill_missing_data_byPredict(df, fillColumn, dataColumns):\n",
    "    print(\"fillColumn:\")\n",
    "    print(fillColumn)\n",
    "#     print(\"dataColumns:\")\n",
    "#     print(dataColumns)\n",
    "    needFill_df = df[fillColumn + dataColumns]\n",
    "    \n",
    "    known_df = needFill_df[needFill_df[fillColumn[0]].notnull()].as_matrix()\n",
    "    unknown_df = needFill_df[needFill_df[fillColumn[0]].isnull()].as_matrix()\n",
    "    \n",
    "    y = known_df[:, 0] \n",
    "    X = known_df[:,1:]\n",
    "\n",
    "    X_isNumpyNan = np.any(np.isnan(X))\n",
    "    # adarray转pandas填充空值后再做预测\n",
    "    if(X_isNumpyNan):\n",
    "        X_df = pd.DataFrame(X, columns = dataColumns)\n",
    "        X_df = X_df.fillna(X_df.mean())\n",
    "        X = X_df.values\n",
    "        \n",
    "    unknown_X = unknown_df[:, 1:]\n",
    "    unknown_X_isNumpyNan = np.any(np.isnan(unknown_X))\n",
    "    if(unknown_X_isNumpyNan):\n",
    "#         print(\"unknown_X——shape!\")\n",
    "#         print(unknown_X.shape)\n",
    "        unknown_X_df = pd.DataFrame(unknown_X, columns = dataColumns)\n",
    "#         print('unknown_X_df.mean():', unknown_X_df.mean())\n",
    "        unknown_X_df = unknown_X_df.fillna(unknown_X_df.mean())\n",
    "        unknown_X_df_isNumpyNan = np.any(np.isnan(unknown_X_df))\n",
    "#         print('unknown_X_df_isNumpyNan:', unknown_X_df_isNumpyNan)\n",
    "        unknown_X = unknown_X_df.values\n",
    "        \n",
    "        \n",
    "    \n",
    "    rfr = RandomForestRegressor(oob_score = True, n_jobs = -1,random_state =50,\n",
    "                                max_features = \"auto\", min_samples_leaf = 5)\n",
    "    rfr.fit(X, y)\n",
    "    \n",
    "    print('after fill unknown_X:')\n",
    "    print(unknown_X)\n",
    "    predictData = rfr.predict(unknown_X)\n",
    "    df.loc[(df[fillColumn[0]].isnull()), fillColumn[0]] = predictData\n",
    "    \n",
    "    return df"
   ]
  },
  {
   "cell_type": "markdown",
   "metadata": {},
   "source": [
    "# 筛选出31等字段为空的行"
   ]
  },
  {
   "cell_type": "code",
   "execution_count": 10,
   "metadata": {},
   "outputs": [
    {
     "name": "stdout",
     "output_type": "stream",
     "text": [
      "<class 'pandas.core.frame.DataFrame'>\n",
      "Int64Index: 17712 entries, 0 to 38196\n",
      "Data columns (total 16 columns):\n",
      "ssy        17710 non-null float64\n",
      "szy        17710 non-null float64\n",
      "xqdmddb    17712 non-null float64\n",
      "xqgmddb    17712 non-null float64\n",
      "xqgysz     17712 non-null float64\n",
      "100005     12511 non-null float64\n",
      "100007     14563 non-null float64\n",
      "31         17712 non-null float64\n",
      "315        17712 non-null float64\n",
      "316        17712 non-null float64\n",
      "317        17459 non-null float64\n",
      "319        17712 non-null float64\n",
      "33         17405 non-null float64\n",
      "34         13957 non-null float64\n",
      "37         17712 non-null float64\n",
      "39         14101 non-null float64\n",
      "dtypes: float64(16)\n",
      "memory usage: 2.3 MB\n"
     ]
    }
   ],
   "source": [
    "data = data[(data['31'].notnull())]\n",
    "data.info()"
   ]
  },
  {
   "cell_type": "code",
   "execution_count": 11,
   "metadata": {},
   "outputs": [
    {
     "name": "stdout",
     "output_type": "stream",
     "text": [
      "('fill_col\\xef\\xbc\\x9a', 'ssy')\n",
      "fillColumn:\n",
      "['ssy']\n"
     ]
    },
    {
     "name": "stderr",
     "output_type": "stream",
     "text": [
      "F:\\Studio\\Python\\Anaconda\\lib\\site-packages\\sklearn\\ensemble\\forest.py:724: UserWarning: Some inputs do not have OOB scores. This probably means too few trees were used to compute any reliable oob estimates.\n",
      "  warn(\"Some inputs do not have OOB scores. \"\n"
     ]
    },
    {
     "name": "stdout",
     "output_type": "stream",
     "text": [
      "after fill unknown_X:\n",
      "[[  1.15   1.21   3.91   5.23  94.4   31.1  200.    67.5 ]\n",
      " [  1.25   1.52   5.01   5.11  87.7   30.5  268.    53.  ]]\n",
      "('fill_col\\xef\\xbc\\x9a', 'szy')\n",
      "fillColumn:\n",
      "['szy']\n",
      "after fill unknown_X:\n",
      "[[  1.15   1.21   3.91   5.23  94.4   31.1  200.    67.5 ]\n",
      " [  1.25   1.52   5.01   5.11  87.7   30.5  268.    53.  ]]\n",
      "('fill_col\\xef\\xbc\\x9a', '100005')\n",
      "fillColumn:\n",
      "['100005']\n",
      "after fill unknown_X:\n",
      "[[  1.37   1.25   2.66 ...  30.8  168.    58.6 ]\n",
      " [  1.27   2.21   1.73 ...  33.2  152.    45.4 ]\n",
      " [  0.8    1.87   2.21 ...  29.6  225.    50.2 ]\n",
      " ...\n",
      " [  2.25   1.32   2.02 ...  32.3  194.    54.7 ]\n",
      " [  3.94   1.39   2.34 ...  29.3  250.    66.3 ]\n",
      " [  1.19   1.04   1.56 ...  31.8  204.    63.6 ]]\n",
      "('fill_col\\xef\\xbc\\x9a', '100007')\n",
      "fillColumn:\n",
      "['100007']\n",
      "after fill unknown_X:\n",
      "[[  1.99   1.12   2.39 ...  30.8  162.    74.6 ]\n",
      " [  1.61   1.66   2.67 ...  30.6  191.    57.7 ]\n",
      " [  1.21   1.97   2.49 ...  31.8  147.    58.4 ]\n",
      " ...\n",
      " [  2.3    1.07   3.05 ...  30.3  220.    72.7 ]\n",
      " [  0.94   1.54   4.   ...  32.6  166.    63.6 ]\n",
      " [  2.25   1.32   2.02 ...  32.3  194.    54.7 ]]\n",
      "('fill_col\\xef\\xbc\\x9a', '317')\n",
      "fillColumn:\n",
      "['317']\n",
      "after fill unknown_X:\n",
      "[[  0.62   1.93   1.66 ...  31.   119.    55.2 ]\n",
      " [  0.66   1.85   2.39 ...  31.4  244.    51.8 ]\n",
      " [  0.52   1.33   1.6  ...  30.2  160.    53.2 ]\n",
      " ...\n",
      " [  1.46   1.31   2.34 ...  30.4  160.    63.  ]\n",
      " [  1.53   1.26   2.36 ...  29.   435.    56.4 ]\n",
      " [  1.06   1.49   2.02 ...  30.9  220.    55.4 ]]\n",
      "('fill_col\\xef\\xbc\\x9a', '33')\n",
      "fillColumn:\n",
      "['33']\n",
      "after fill unknown_X:\n",
      "[[  1.5    1.65   2.47 ...  30.   253.    54.2 ]\n",
      " [  1.4    1.55   2.15 ...  32.3  154.    62.9 ]\n",
      " [  2.7    1.5    3.1  ...  29.2  180.    66.2 ]\n",
      " ...\n",
      " [  1.4    1.15   1.49 ...  28.5  147.    60.  ]\n",
      " [  1.7    1.61   2.33 ...  29.9  250.    56.7 ]\n",
      " [  1.2    1.55   1.85 ...  31.2  275.    49.7 ]]\n",
      "('fill_col\\xef\\xbc\\x9a', '34')\n",
      "fillColumn:\n",
      "['34']\n",
      "after fill unknown_X:\n",
      "[[  2.59   1.35   2.53 ...  23.2  295.    67.6 ]\n",
      " [  1.42   1.5    3.35 ...  29.5  227.    58.8 ]\n",
      " [  0.34   1.6    2.05 ...  28.1  214.    47.6 ]\n",
      " ...\n",
      " [  1.4    1.15   1.49 ...  28.5  147.    60.  ]\n",
      " [  1.7    1.61   2.33 ...  29.9  250.    56.7 ]\n",
      " [  1.2    1.55   1.85 ...  31.2  275.    49.7 ]]\n",
      "('fill_col\\xef\\xbc\\x9a', '39')\n",
      "fillColumn:\n",
      "['39']\n",
      "after fill unknown_X:\n",
      "[[2.59e+00 1.35e+00 2.53e+00 ... 2.32e+01 2.95e+02 6.76e+01]\n",
      " [1.42e+00 1.50e+00 3.35e+00 ... 2.95e+01 2.27e+02 5.88e+01]\n",
      " [3.40e-01 1.60e+00 2.05e+00 ... 2.81e+01 2.14e+02 4.76e+01]\n",
      " ...\n",
      " [1.46e+00 1.31e+00 2.34e+00 ... 3.04e+01 1.60e+02 6.30e+01]\n",
      " [1.53e+00 1.26e+00 2.36e+00 ... 2.90e+01 4.35e+02 5.64e+01]\n",
      " [1.06e+00 1.49e+00 2.02e+00 ... 3.09e+01 2.20e+02 5.54e+01]]\n"
     ]
    }
   ],
   "source": [
    "needfill_cols = ['ssy', 'szy', '100005', '100007', '317', '33', '34' ,'39']\n",
    "fill_col_list = ['xqdmddb', 'xqgmddb', 'xqgysz', '31', '315', '316', '319', '37']\n",
    "\n",
    "for fill_col in needfill_cols:\n",
    "    fillColumn = []\n",
    "    fillColumn.append(fill_col)\n",
    "    print('fill_col：', fill_col)\n",
    "    data = fill_missing_data_byPredict(data, fillColumn, fill_col_list)"
   ]
  },
  {
   "cell_type": "code",
   "execution_count": 12,
   "metadata": {},
   "outputs": [
    {
     "name": "stdout",
     "output_type": "stream",
     "text": [
      "<class 'pandas.core.frame.DataFrame'>\n",
      "Int64Index: 17712 entries, 0 to 38196\n",
      "Data columns (total 16 columns):\n",
      "ssy        17712 non-null float64\n",
      "szy        17712 non-null float64\n",
      "xqdmddb    17712 non-null float64\n",
      "xqgmddb    17712 non-null float64\n",
      "xqgysz     17712 non-null float64\n",
      "100005     17712 non-null float64\n",
      "100007     17712 non-null float64\n",
      "31         17712 non-null float64\n",
      "315        17712 non-null float64\n",
      "316        17712 non-null float64\n",
      "317        17712 non-null float64\n",
      "319        17712 non-null float64\n",
      "33         17712 non-null float64\n",
      "34         17712 non-null float64\n",
      "37         17712 non-null float64\n",
      "39         17712 non-null float64\n",
      "dtypes: float64(16)\n",
      "memory usage: 2.3 MB\n"
     ]
    }
   ],
   "source": [
    "data.info()"
   ]
  },
  {
   "cell_type": "code",
   "execution_count": 13,
   "metadata": {},
   "outputs": [
    {
     "data": {
      "text/html": [
       "<div>\n",
       "<style scoped>\n",
       "    .dataframe tbody tr th:only-of-type {\n",
       "        vertical-align: middle;\n",
       "    }\n",
       "\n",
       "    .dataframe tbody tr th {\n",
       "        vertical-align: top;\n",
       "    }\n",
       "\n",
       "    .dataframe thead th {\n",
       "        text-align: right;\n",
       "    }\n",
       "</style>\n",
       "<table border=\"1\" class=\"dataframe\">\n",
       "  <thead>\n",
       "    <tr style=\"text-align: right;\">\n",
       "      <th></th>\n",
       "      <th>ssy</th>\n",
       "      <th>szy</th>\n",
       "      <th>xqdmddb</th>\n",
       "      <th>xqgmddb</th>\n",
       "      <th>xqgysz</th>\n",
       "      <th>100005</th>\n",
       "      <th>100007</th>\n",
       "      <th>31</th>\n",
       "      <th>315</th>\n",
       "      <th>316</th>\n",
       "      <th>317</th>\n",
       "      <th>319</th>\n",
       "      <th>33</th>\n",
       "      <th>34</th>\n",
       "      <th>37</th>\n",
       "      <th>39</th>\n",
       "    </tr>\n",
       "  </thead>\n",
       "  <tbody>\n",
       "    <tr>\n",
       "      <th>0</th>\n",
       "      <td>165.0</td>\n",
       "      <td>100.0</td>\n",
       "      <td>2.08</td>\n",
       "      <td>1.29</td>\n",
       "      <td>3.24</td>\n",
       "      <td>12.900000</td>\n",
       "      <td>0.260</td>\n",
       "      <td>4.82</td>\n",
       "      <td>85.4</td>\n",
       "      <td>28.2</td>\n",
       "      <td>330.0</td>\n",
       "      <td>255.0</td>\n",
       "      <td>2.0</td>\n",
       "      <td>0.2</td>\n",
       "      <td>65.6</td>\n",
       "      <td>2.6</td>\n",
       "    </tr>\n",
       "    <tr>\n",
       "      <th>1</th>\n",
       "      <td>141.0</td>\n",
       "      <td>97.0</td>\n",
       "      <td>2.64</td>\n",
       "      <td>1.36</td>\n",
       "      <td>4.75</td>\n",
       "      <td>13.000000</td>\n",
       "      <td>0.160</td>\n",
       "      <td>7.10</td>\n",
       "      <td>90.2</td>\n",
       "      <td>26.4</td>\n",
       "      <td>293.0</td>\n",
       "      <td>158.0</td>\n",
       "      <td>2.7</td>\n",
       "      <td>0.7</td>\n",
       "      <td>58.0</td>\n",
       "      <td>8.6</td>\n",
       "    </tr>\n",
       "    <tr>\n",
       "      <th>2</th>\n",
       "      <td>120.0</td>\n",
       "      <td>80.0</td>\n",
       "      <td>1.37</td>\n",
       "      <td>1.25</td>\n",
       "      <td>2.66</td>\n",
       "      <td>22.238487</td>\n",
       "      <td>0.260</td>\n",
       "      <td>5.71</td>\n",
       "      <td>88.6</td>\n",
       "      <td>30.8</td>\n",
       "      <td>348.0</td>\n",
       "      <td>168.0</td>\n",
       "      <td>1.7</td>\n",
       "      <td>0.4</td>\n",
       "      <td>58.6</td>\n",
       "      <td>7.4</td>\n",
       "    </tr>\n",
       "    <tr>\n",
       "      <th>3</th>\n",
       "      <td>100.0</td>\n",
       "      <td>70.0</td>\n",
       "      <td>1.27</td>\n",
       "      <td>2.21</td>\n",
       "      <td>1.73</td>\n",
       "      <td>17.972003</td>\n",
       "      <td>0.260</td>\n",
       "      <td>4.13</td>\n",
       "      <td>93.0</td>\n",
       "      <td>33.2</td>\n",
       "      <td>354.0</td>\n",
       "      <td>152.0</td>\n",
       "      <td>2.0</td>\n",
       "      <td>0.1</td>\n",
       "      <td>45.4</td>\n",
       "      <td>3.6</td>\n",
       "    </tr>\n",
       "    <tr>\n",
       "      <th>4</th>\n",
       "      <td>110.0</td>\n",
       "      <td>80.0</td>\n",
       "      <td>0.80</td>\n",
       "      <td>1.87</td>\n",
       "      <td>2.21</td>\n",
       "      <td>23.059563</td>\n",
       "      <td>0.200</td>\n",
       "      <td>4.87</td>\n",
       "      <td>92.6</td>\n",
       "      <td>29.6</td>\n",
       "      <td>319.0</td>\n",
       "      <td>225.0</td>\n",
       "      <td>1.7</td>\n",
       "      <td>0.3</td>\n",
       "      <td>50.2</td>\n",
       "      <td>8.4</td>\n",
       "    </tr>\n",
       "    <tr>\n",
       "      <th>5</th>\n",
       "      <td>110.0</td>\n",
       "      <td>80.0</td>\n",
       "      <td>1.40</td>\n",
       "      <td>1.74</td>\n",
       "      <td>2.09</td>\n",
       "      <td>22.149885</td>\n",
       "      <td>0.130</td>\n",
       "      <td>4.78</td>\n",
       "      <td>96.9</td>\n",
       "      <td>33.9</td>\n",
       "      <td>350.0</td>\n",
       "      <td>319.0</td>\n",
       "      <td>2.0</td>\n",
       "      <td>0.7</td>\n",
       "      <td>48.4</td>\n",
       "      <td>13.9</td>\n",
       "    </tr>\n",
       "    <tr>\n",
       "      <th>7</th>\n",
       "      <td>111.0</td>\n",
       "      <td>71.0</td>\n",
       "      <td>3.36</td>\n",
       "      <td>1.08</td>\n",
       "      <td>2.88</td>\n",
       "      <td>10.600000</td>\n",
       "      <td>0.220</td>\n",
       "      <td>5.32</td>\n",
       "      <td>91.7</td>\n",
       "      <td>30.6</td>\n",
       "      <td>334.0</td>\n",
       "      <td>210.0</td>\n",
       "      <td>1.6</td>\n",
       "      <td>0.7</td>\n",
       "      <td>66.6</td>\n",
       "      <td>10.0</td>\n",
       "    </tr>\n",
       "    <tr>\n",
       "      <th>13</th>\n",
       "      <td>132.0</td>\n",
       "      <td>73.0</td>\n",
       "      <td>0.84</td>\n",
       "      <td>1.71</td>\n",
       "      <td>2.87</td>\n",
       "      <td>46.300000</td>\n",
       "      <td>0.241</td>\n",
       "      <td>3.82</td>\n",
       "      <td>91.6</td>\n",
       "      <td>31.9</td>\n",
       "      <td>348.0</td>\n",
       "      <td>270.0</td>\n",
       "      <td>1.5</td>\n",
       "      <td>0.4</td>\n",
       "      <td>66.9</td>\n",
       "      <td>7.0</td>\n",
       "    </tr>\n",
       "    <tr>\n",
       "      <th>14</th>\n",
       "      <td>155.0</td>\n",
       "      <td>84.0</td>\n",
       "      <td>1.85</td>\n",
       "      <td>1.12</td>\n",
       "      <td>4.23</td>\n",
       "      <td>37.200000</td>\n",
       "      <td>0.371</td>\n",
       "      <td>4.50</td>\n",
       "      <td>83.3</td>\n",
       "      <td>28.4</td>\n",
       "      <td>341.0</td>\n",
       "      <td>145.0</td>\n",
       "      <td>2.2</td>\n",
       "      <td>0.4</td>\n",
       "      <td>57.0</td>\n",
       "      <td>8.0</td>\n",
       "    </tr>\n",
       "    <tr>\n",
       "      <th>15</th>\n",
       "      <td>127.0</td>\n",
       "      <td>80.0</td>\n",
       "      <td>0.69</td>\n",
       "      <td>1.67</td>\n",
       "      <td>2.54</td>\n",
       "      <td>42.700000</td>\n",
       "      <td>0.243</td>\n",
       "      <td>4.63</td>\n",
       "      <td>92.4</td>\n",
       "      <td>31.1</td>\n",
       "      <td>336.0</td>\n",
       "      <td>320.0</td>\n",
       "      <td>1.6</td>\n",
       "      <td>0.5</td>\n",
       "      <td>66.9</td>\n",
       "      <td>7.8</td>\n",
       "    </tr>\n",
       "  </tbody>\n",
       "</table>\n",
       "</div>"
      ],
      "text/plain": [
       "      ssy    szy  xqdmddb  xqgmddb  xqgysz     100005  100007    31   315  \\\n",
       "0   165.0  100.0     2.08     1.29    3.24  12.900000   0.260  4.82  85.4   \n",
       "1   141.0   97.0     2.64     1.36    4.75  13.000000   0.160  7.10  90.2   \n",
       "2   120.0   80.0     1.37     1.25    2.66  22.238487   0.260  5.71  88.6   \n",
       "3   100.0   70.0     1.27     2.21    1.73  17.972003   0.260  4.13  93.0   \n",
       "4   110.0   80.0     0.80     1.87    2.21  23.059563   0.200  4.87  92.6   \n",
       "5   110.0   80.0     1.40     1.74    2.09  22.149885   0.130  4.78  96.9   \n",
       "7   111.0   71.0     3.36     1.08    2.88  10.600000   0.220  5.32  91.7   \n",
       "13  132.0   73.0     0.84     1.71    2.87  46.300000   0.241  3.82  91.6   \n",
       "14  155.0   84.0     1.85     1.12    4.23  37.200000   0.371  4.50  83.3   \n",
       "15  127.0   80.0     0.69     1.67    2.54  42.700000   0.243  4.63  92.4   \n",
       "\n",
       "     316    317    319   33   34    37    39  \n",
       "0   28.2  330.0  255.0  2.0  0.2  65.6   2.6  \n",
       "1   26.4  293.0  158.0  2.7  0.7  58.0   8.6  \n",
       "2   30.8  348.0  168.0  1.7  0.4  58.6   7.4  \n",
       "3   33.2  354.0  152.0  2.0  0.1  45.4   3.6  \n",
       "4   29.6  319.0  225.0  1.7  0.3  50.2   8.4  \n",
       "5   33.9  350.0  319.0  2.0  0.7  48.4  13.9  \n",
       "7   30.6  334.0  210.0  1.6  0.7  66.6  10.0  \n",
       "13  31.9  348.0  270.0  1.5  0.4  66.9   7.0  \n",
       "14  28.4  341.0  145.0  2.2  0.4  57.0   8.0  \n",
       "15  31.1  336.0  320.0  1.6  0.5  66.9   7.8  "
      ]
     },
     "execution_count": 13,
     "metadata": {},
     "output_type": "execute_result"
    }
   ],
   "source": [
    "data.head(10)"
   ]
  },
  {
   "cell_type": "code",
   "execution_count": 14,
   "metadata": {},
   "outputs": [],
   "source": [
    "data.to_csv('data/allPredictFill.csv')"
   ]
  },
  {
   "cell_type": "code",
   "execution_count": null,
   "metadata": {},
   "outputs": [],
   "source": []
  }
 ],
 "metadata": {
  "kernelspec": {
   "display_name": "Python 2",
   "language": "python",
   "name": "python2"
  },
  "language_info": {
   "codemirror_mode": {
    "name": "ipython",
    "version": 2
   },
   "file_extension": ".py",
   "mimetype": "text/x-python",
   "name": "python",
   "nbconvert_exporter": "python",
   "pygments_lexer": "ipython2",
   "version": "2.7.14"
  }
 },
 "nbformat": 4,
 "nbformat_minor": 2
}
